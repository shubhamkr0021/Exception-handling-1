{
 "cells": [
  {
   "cell_type": "markdown",
   "id": "47980302-b784-4827-8f6d-1567ce23c2df",
   "metadata": {},
   "source": [
    "What is an Exception in Python? Write the difference between Exceptions and syntax errors"
   ]
  },
  {
   "cell_type": "markdown",
   "id": "8a9782a2-1b7b-4037-a7fc-675d4b6db0e4",
   "metadata": {},
   "source": [
    "Exception in Python:\n",
    "- An exception in Python is an error that occurs during the execution of a program.\n",
    "- Exceptions are raised when the program encounters a situation it cannot handle.\n",
    "- They can be caused by various reasons, such as invalid user input, file not found, or division by zero.\n",
    "- You can catch and handle exceptions using try and except blocks to gracefully deal with errors.\n",
    "\n",
    "Difference between Exceptions and Syntax Errors:\n",
    "\n",
    "Exceptions:\n",
    "- Occur during the runtime (execution) of a program.\n",
    "- Caused by factors like invalid input, file issues, or other runtime conditions.\n",
    "- Can be caught and handled using try and except blocks.\n",
    "- Examples include ZeroDivisionError r, FileNotFounderror, and ValueError.\n",
    "\n",
    "Syntax Errors:\n",
    "- Occur during the parsing (compilation) of a program, before execution.\n",
    "- Caused by violations of the Python language syntax rules, such as missing colons, unmatched parentheses, or typos.\n",
    "- Must be fixed in the code before running the program.\n",
    "- Examples include SyntaxError and IndentationError.\n"
   ]
  },
  {
   "cell_type": "markdown",
   "id": "0c6041aa-244d-42af-b93a-e1b53cdd8b5a",
   "metadata": {},
   "source": [
    "Q2. What happens when an exception is not handled? Explain with an example"
   ]
  },
  {
   "cell_type": "markdown",
   "id": "4aea7518-fbe7-4da9-844b-4261fb90ecc8",
   "metadata": {},
   "source": [
    "When an exception is not handled in a program, it typically results in the program terminating abruptly. The Python interpreter prints an error message (stack trace) that provides information about the unhandled exception, and the program execution stops.\n",
    "\n",
    "Here's an example to illustrate what happens when an exception is not handled:"
   ]
  },
  {
   "cell_type": "code",
   "execution_count": 3,
   "id": "659c4526-9930-4c4c-b87c-ef53f0ba8507",
   "metadata": {},
   "outputs": [
    {
     "ename": "ZeroDivisionError",
     "evalue": "division by zero",
     "output_type": "error",
     "traceback": [
      "\u001b[0;31m---------------------------------------------------------------------------\u001b[0m",
      "\u001b[0;31mZeroDivisionError\u001b[0m                         Traceback (most recent call last)",
      "Cell \u001b[0;32mIn[3], line 6\u001b[0m\n\u001b[1;32m      3\u001b[0m     \u001b[38;5;28;01mreturn\u001b[39;00m result\n\u001b[1;32m      5\u001b[0m \u001b[38;5;28;01mtry\u001b[39;00m:\n\u001b[0;32m----> 6\u001b[0m     result \u001b[38;5;241m=\u001b[39m \u001b[43mdivide\u001b[49m\u001b[43m(\u001b[49m\u001b[38;5;241;43m10\u001b[39;49m\u001b[43m,\u001b[49m\u001b[43m \u001b[49m\u001b[38;5;241;43m0\u001b[39;49m\u001b[43m)\u001b[49m \n\u001b[1;32m      7\u001b[0m     \u001b[38;5;28mprint\u001b[39m(\u001b[38;5;124m\"\u001b[39m\u001b[38;5;124mResult:\u001b[39m\u001b[38;5;124m\"\u001b[39m, result)\n\u001b[1;32m      8\u001b[0m \u001b[38;5;28;01mexcept\u001b[39;00m \u001b[38;5;167;01mValueError\u001b[39;00m:\n",
      "Cell \u001b[0;32mIn[3], line 2\u001b[0m, in \u001b[0;36mdivide\u001b[0;34m(a, b)\u001b[0m\n\u001b[1;32m      1\u001b[0m \u001b[38;5;28;01mdef\u001b[39;00m \u001b[38;5;21mdivide\u001b[39m(a, b):\n\u001b[0;32m----> 2\u001b[0m     result \u001b[38;5;241m=\u001b[39m \u001b[43ma\u001b[49m\u001b[43m \u001b[49m\u001b[38;5;241;43m/\u001b[39;49m\u001b[43m \u001b[49m\u001b[43mb\u001b[49m\n\u001b[1;32m      3\u001b[0m     \u001b[38;5;28;01mreturn\u001b[39;00m result\n",
      "\u001b[0;31mZeroDivisionError\u001b[0m: division by zero"
     ]
    }
   ],
   "source": [
    "def divide(a, b):\n",
    "    result = a / b\n",
    "    return result\n",
    "\n",
    "try:\n",
    "    result = divide(10, 0) \n",
    "    print(\"Result:\", result)\n",
    "except ValueError:\n",
    "    print(\"A ValueError occurred.\")\n"
   ]
  },
  {
   "cell_type": "markdown",
   "id": "b993959b-7593-40fc-922f-4d8151f432b8",
   "metadata": {},
   "source": [
    "Q3.  Which Python statements are used to, catch and handle exceptions? Explain with an example"
   ]
  },
  {
   "cell_type": "code",
   "execution_count": 5,
   "id": "53e7e7fa-8348-48d4-9062-a3ed7b95d1bc",
   "metadata": {},
   "outputs": [
    {
     "name": "stdout",
     "output_type": "stream",
     "text": [
      "Error: Division by zero is not allowed.\n"
     ]
    }
   ],
   "source": [
    "try:\n",
    "    \n",
    "    result = 10 / 0 \n",
    "except ZeroDivisionError:\n",
    "    print(\"Error: Division by zero is not allowed.\")\n",
    "\n"
   ]
  },
  {
   "cell_type": "markdown",
   "id": "e247829d-d50a-43a9-82db-8bd4f2e14683",
   "metadata": {},
   "source": [
    "Q4. Explain with an example:\n",
    "a. try and else\n",
    "b. finally\n",
    "c. Raise"
   ]
  },
  {
   "cell_type": "code",
   "execution_count": 6,
   "id": "96ea5b37-e622-4f06-8696-d9a1407f0180",
   "metadata": {},
   "outputs": [
    {
     "name": "stdout",
     "output_type": "stream",
     "text": [
      "Division successful. Result: 5.0\n"
     ]
    }
   ],
   "source": [
    "#a.\n",
    "try:\n",
    "    x = 10 / 2 \n",
    "except ZeroDivisionError:\n",
    "    print(\"Division by zero!\")\n",
    "else:\n",
    "    print(\"Division successful. Result:\", x)\n"
   ]
  },
  {
   "cell_type": "code",
   "execution_count": 7,
   "id": "5deabd10-a1d2-490b-abd5-470d809409b6",
   "metadata": {},
   "outputs": [
    {
     "name": "stdout",
     "output_type": "stream",
     "text": [
      "Division successful. Result: 5.0\n"
     ]
    }
   ],
   "source": [
    "#b.\n",
    "try:\n",
    "    x = 10 / 2 \n",
    "except ZeroDivisionError:\n",
    "    print(\"Division by zero!\")\n",
    "else:\n",
    "    print(\"Division successful. Result:\", x)\n"
   ]
  },
  {
   "cell_type": "code",
   "execution_count": 8,
   "id": "bde53aac-bfbe-4c74-931e-d58d92d62f1f",
   "metadata": {},
   "outputs": [
    {
     "name": "stdout",
     "output_type": "stream",
     "text": [
      "Error: Division by zero is not allowed.\n"
     ]
    }
   ],
   "source": [
    "#c.\n",
    "def divide(a, b):\n",
    "    if b == 0:\n",
    "        raise ZeroDivisionError(\"Division by zero is not allowed.\")\n",
    "    return a / b\n",
    "\n",
    "try:\n",
    "    result = divide(10, 0) \n",
    "except ZeroDivisionError as e:\n",
    "    print(\"Error:\", e)\n"
   ]
  },
  {
   "cell_type": "markdown",
   "id": "465d428d-42d3-4a4e-b5fa-ad71fbd23c80",
   "metadata": {},
   "source": [
    "Q5. What are Custom Exceptions in Python? Why do we need Custom Exceptions? Explain with an example?"
   ]
  },
  {
   "cell_type": "markdown",
   "id": "7ad829cd-c322-4d3a-b44f-32a7ebbdb49f",
   "metadata": {},
   "source": [
    "Custom exceptions in Python are user-defined exception classes that allow you to create your own specific exception types. While Python provides a variety of built-in exception classes , there are situations where it's beneficial to define custom exceptions tailored to your application's needs.\n",
    "\n",
    "Why do we need custom exceptions:-\n",
    "\n",
    "Clarity and Readability: Custom exceptions make your code more self-explanatory. When an error specific to your application occurs, raising a custom exception with a meaningful name and message helps in understanding the problem.\n",
    "\n",
    "Handling Specific Errors: Custom exceptions allow you to catch and handle specific error scenarios unique to your application, which can't be adequately addressed by built-in exceptions.\n",
    "\n",
    "Consistency: By defining custom exceptions, you can ensure that error handling across your codebase is consistent and follows a common pattern."
   ]
  },
  {
   "cell_type": "code",
   "execution_count": 9,
   "id": "ea85df8f-63f3-480f-91a7-ba8e32af2759",
   "metadata": {},
   "outputs": [
    {
     "name": "stdout",
     "output_type": "stream",
     "text": [
      "Insufficient funds: Balance=1000, Amount=1500\n"
     ]
    }
   ],
   "source": [
    "class InsufficientFundsError(Exception):\n",
    "    def __init__(self, balance, amount):\n",
    "        self.balance = balance\n",
    "        self.amount = amount\n",
    "        super().__init__(f\"Insufficient funds: Balance={balance}, Amount={amount}\")\n",
    "\n",
    "def withdraw(balance, amount):\n",
    "    if amount > balance:\n",
    "        raise InsufficientFundsError(balance, amount)\n",
    "    return balance - amount\n",
    "\n",
    "try:\n",
    "    account_balance = 1000\n",
    "    withdrawal_amount = 1500\n",
    "    new_balance = withdraw(account_balance, withdrawal_amount)\n",
    "except InsufficientFundsError as e:\n",
    "    print(e)\n",
    "else:\n",
    "    print(f\"Withdrawal successful. New balance: {new_balance}\")\n"
   ]
  },
  {
   "cell_type": "markdown",
   "id": "9f44cf92-da98-41bd-ad20-ad7727c92246",
   "metadata": {},
   "source": [
    " Q6. Create, custom exception, class. Use this, class to handle an exception."
   ]
  },
  {
   "cell_type": "code",
   "execution_count": 10,
   "id": "a6f8fb81-d8cc-47f6-ace2-b8e9a3f5bd44",
   "metadata": {},
   "outputs": [
    {
     "name": "stdout",
     "output_type": "stream",
     "text": [
      "Value 150 exceeds the threshold of 100.\n"
     ]
    }
   ],
   "source": [
    "class ValueTooHighError(Exception):\n",
    "    def __init__(self, value, threshold):\n",
    "        self.value = value\n",
    "        self.threshold = threshold\n",
    "        super().__init__(f\"Value {value} exceeds the threshold of {threshold}.\")\n",
    "\n",
    "def process_value(value, threshold):\n",
    "    if value > threshold:\n",
    "        raise ValueTooHighError(value, threshold)\n",
    "    return value\n",
    "\n",
    "try:\n",
    "    max_threshold = 100\n",
    "    value_to_check = 150\n",
    "    result = process_value(value_to_check, max_threshold)\n",
    "except ValueTooHighError as e:\n",
    "    print(e)\n",
    "else:\n",
    "    print(f\"Value {value_to_check} is within the threshold.\")\n"
   ]
  },
  {
   "cell_type": "code",
   "execution_count": null,
   "id": "6665e377-3a70-415f-bd4d-33b35ea8f1d0",
   "metadata": {},
   "outputs": [],
   "source": []
  }
 ],
 "metadata": {
  "kernelspec": {
   "display_name": "Python 3 (ipykernel)",
   "language": "python",
   "name": "python3"
  },
  "language_info": {
   "codemirror_mode": {
    "name": "ipython",
    "version": 3
   },
   "file_extension": ".py",
   "mimetype": "text/x-python",
   "name": "python",
   "nbconvert_exporter": "python",
   "pygments_lexer": "ipython3",
   "version": "3.10.8"
  }
 },
 "nbformat": 4,
 "nbformat_minor": 5
}
